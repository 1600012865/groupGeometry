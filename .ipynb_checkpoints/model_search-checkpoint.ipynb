{
 "cells": [
  {
   "cell_type": "code",
   "execution_count": 21,
   "metadata": {},
   "outputs": [
    {
     "name": "stdout",
     "output_type": "stream",
     "text": [
      "loss: 1.545\n"
     ]
    },
    {
     "data": {
      "image/png": "[encoded data removed]",
      "text/plain": [
       "<Figure size 432x288 with 2 Axes>"
      ]
     },
     "metadata": {},
     "output_type": "display_data"
    },
    {
     "name": "stdout",
     "output_type": "stream",
     "text": [
      "0.01544677801575769\n"
     ]
    }
   ],
   "source": [
    "import matplotlib.pyplot as plt\n",
    "from sagan_models import Generator\n",
    "import torch\n",
    "import os\n",
    "import sys\n",
    "import torch.nn as nn\n",
    "from metric import get_metric\n",
    "import numpy as np\n",
    "z = 32\n",
    "w = torch.load('/data-174/xuanjc/geometry/models/sagan_rec0/15360_G.pth')\n",
    "net = Generator(z_dim=z)\n",
    "net.cuda()\n",
    "net = nn.DataParallel(net)\n",
    "net.load_state_dict(w)\n",
    "num = 100\n",
    "sample = torch.randn(num,z,1,1)\n",
    "sample = net(sample)\n",
    "sample = sample/2 + 0.5\n",
    "plt.gray()\n",
    "loss = 0\n",
    "for i in range(num):\n",
    "  tmp = sample[i,0].detach().cpu().numpy()\n",
    "  res = get_metric(tmp)\n",
    "  print('loss: %.3f'%(res[0]))\n",
    "  plt.subplot(121)\n",
    "  plt.imshow(tmp)\n",
    "  plt.subplot(122)\n",
    "  plt.imshow(res[1])\n",
    "  plt.show()\n",
    "  plt.close()\n",
    "  loss += res[0]\n",
    "print(loss/num)"
   ]
  }
 ],
 "metadata": {
  "kernelspec": {
   "display_name": "Python 3",
   "language": "python",
   "name": "python3"
  }
 },
 "nbformat": 4,
 "nbformat_minor": 2
}
